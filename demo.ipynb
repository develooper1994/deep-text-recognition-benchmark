{
 "cells": [
  {
   "cell_type": "markdown",
   "metadata": {
    "colab_type": "text",
    "id": "view-in-github"
   },
   "source": [
    "<a href=\"https://colab.research.google.com/github/tgalkovskyi/deep-text-recognition-benchmark/blob/master/demo.ipynb\" target=\"_parent\"><img src=\"https://colab.research.google.com/assets/colab-badge.svg\" alt=\"Open In Colab\"/></a>"
   ]
  },
  {
   "cell_type": "markdown",
   "metadata": {
    "colab_type": "text",
    "id": "dHbHK60Tqn2c"
   },
   "source": [
    "This can be executed in https://colab.research.google.com \"Python 3 / GPU\" runtime."
   ]
  },
  {
   "cell_type": "code",
   "execution_count": 3,
   "metadata": {
    "colab": {
     "base_uri": "https://localhost:8080/",
     "height": 153
    },
    "colab_type": "code",
    "id": "Pi-PA14AhdK-",
    "outputId": "5d620547-6ce9-42b9-8206-20f88f23e567",
    "pycharm": {
     "name": "#%% bash\n"
    }
   },
   "outputs": [
    {
     "name": "stdout",
     "output_type": "stream",
     "text": [
      "Cloning into 'deep-text-recognition-benchmark'...\n",
      "remote: Enumerating objects: 40, done.\u001B[K\n",
      "remote: Counting objects: 100% (40/40), done.\u001B[K\n",
      "remote: Compressing objects: 100% (35/35), done.\u001B[K\n",
      "remote: Total 376 (delta 20), reused 13 (delta 5), pack-reused 336\u001B[K\n",
      "Receiving objects: 100% (376/376), 2.43 MiB | 2.61 MiB/s, done.\n",
      "Resolving deltas: 100% (222/222), done.\n",
      "/content/deep-text-recognition-benchmark\n"
     ]
    }
   ],
   "source": [
    "!git clone https://github.com/clovaai/deep-text-recognition-benchmark\n",
    "%cd deep-text-recognition-benchmark"
   ]
  },
  {
   "cell_type": "markdown",
   "metadata": {
    "colab_type": "text",
    "id": "jX-ucvimlaFZ"
   },
   "source": [
    "Next, download large model files from Google Drive, using hack: https://stackoverflow.com/questions/20665881/direct-download-from-google-drive-using-google-drive-api/32742700#32742700"
   ]
  },
  {
   "cell_type": "code",
   "execution_count": 1,
   "metadata": {
    "colab": {
     "base_uri": "https://localhost:8080/",
     "height": 833
    },
    "colab_type": "code",
    "id": "9eEhhPBshkjr",
    "outputId": "205d0bd8-340f-4e9b-ebfd-e9c8f7d327a0",
    "pycharm": {
     "name": "#%% bash\n"
    }
   },
   "outputs": [
    {
     "name": "stdout",
     "output_type": "stream",
     "text": [
      "  % Total    % Received % Xferd  Average Speed   Time    Time     Time  Current\r\n",
      "                                 Dload  Upload   Total   Spent    Left  Speed\r\n",
      "100  3275    0  3275    0     0   4033      0 --:--:-- --:--:-- --:--:--  4033\r\n",
      "  % Total    % Received % Xferd  Average Speed   Time    Time     Time  Current\r\n",
      "                                 Dload  Upload   Total   Spent    Left  Speed\r\n",
      "100   408    0   408    0     0    761      0 --:--:-- --:--:-- --:--:--   761\r\n",
      "  0     0    0     0    0     0      0      0 --:--:-- --:--:-- --:--:--     0\r\n",
      "  0     0    0     0    0     0      0      0 --:--:--  0:00:01 --:--:--     0\r\n",
      "100  186M    0  186M    0     0  5482k      0 --:--:--  0:00:34 --:--:--  9.8M  0  5115k      0 --:--:--  0:00:18 --:--:-- 5753k\r\n",
      "  % Total    % Received % Xferd  Average Speed   Time    Time     Time  Current\r\n",
      "                                 Dload  Upload   Total   Spent    Left  Speed\r\n",
      "100   388    0   388    0     0    171      0 --:--:--  0:00:02 --:--:--   171\r\n",
      "  % Total    % Received % Xferd  Average Speed   Time    Time     Time  Current\r\n",
      "                                 Dload  Upload   Total   Spent    Left  Speed\r\n",
      "  0     0    0     0    0     0      0      0 --:--:-- --:--:-- --:--:--     0\r\n",
      "100 65736    0 65736    0     0  79487      0 --:--:-- --:--:-- --:--:-- 79487\r\n",
      "  % Total    % Received % Xferd  Average Speed   Time    Time     Time  Current\r\n",
      "                                 Dload  Upload   Total   Spent    Left  Speed\r\n",
      "100   388    0   388    0     0    233      0 --:--:--  0:00:01 --:--:--   233\r\n",
      "  % Total    % Received % Xferd  Average Speed   Time    Time     Time  Current\r\n",
      "                                 Dload  Upload   Total   Spent    Left  Speed\r\n",
      "  0     0    0     0    0     0      0      0 --:--:-- --:--:-- --:--:--     0\r\n",
      "100 66207    0 66207    0     0  76100      0 --:--:-- --:--:-- --:--:--  609k\r\n",
      "  % Total    % Received % Xferd  Average Speed   Time    Time     Time  Current\r\n",
      "                                 Dload  Upload   Total   Spent    Left  Speed\r\n",
      "100  3291    0  3291    0     0   5897      0 --:--:-- --:--:-- --:--:--  5887\r\n",
      "  % Total    % Received % Xferd  Average Speed   Time    Time     Time  Current\r\n",
      "                                 Dload  Upload   Total   Spent    Left  Speed\r\n",
      "100   408    0   408    0     0    764      0 --:--:-- --:--:-- --:--:--   764\r\n",
      "  0     0    0     0    0     0      0      0 --:--:-- --:--:-- --:--:--     0\r\n",
      "  0     0    0     0    0     0      0      0 --:--:--  0:00:01 --:--:--     0\r\n",
      "100  189M    0  189M    0     0  6962k      0 --:--:--  0:00:27 --:--:-- 5810k\r\n",
      "  % Total    % Received % Xferd  Average Speed   Time    Time     Time  Current\r\n",
      "                                 Dload  Upload   Total   Spent    Left  Speed\r\n",
      "100  3267    0  3267    0     0   5080      0 --:--:-- --:--:-- --:--:--  5080\r\n",
      "  % Total    % Received % Xferd  Average Speed   Time    Time     Time  Current\r\n",
      "                                 Dload  Upload   Total   Spent    Left  Speed\r\n",
      "100   408    0   408    0     0    732      0 --:--:-- --:--:-- --:--:--   731\r\n",
      "  0     0    0     0    0     0      0      0 --:--:-- --:--:-- --:--:--     0\r\n",
      "  0     0    0     0    0     0      0      0 --:--:--  0:00:01 --:--:--     0\r\n",
      "100  189M    0  189M    0     0  5409k      0 --:--:--  0:00:35 --:--:-- 5782k\r\n",
      "  % Total    % Received % Xferd  Average Speed   Time    Time     Time  Current\r\n",
      "                                 Dload  Upload   Total   Spent    Left  Speed\r\n",
      "100  3275    0  3275    0     0   5998      0 --:--:-- --:--:-- --:--:--  5987  0      0      0 --:--:-- --:--:-- --:--:--     0\r\n",
      "  % Total    % Received % Xferd  Average Speed   Time    Time     Time  Current\r\n",
      "                                 Dload  Upload   Total   Spent    Left  Speed\r\n",
      "100   408    0   408    0     0    827      0 --:--:-- --:--:-- --:--:--   829\r\n",
      "  0     0    0     0    0     0      0      0 --:--:-- --:--:-- --:--:--     0\r\n",
      "  0     0    0     0    0     0      0      0 --:--:--  0:00:01 --:--:--     0\r\n",
      "100  186M    0  186M    0     0  5538k      0 --:--:--  0:00:34 --:--:-- 5741k\r\n",
      "-rw-rw-r-- 1 selcuk selcuk 195888589 May 17 21:25 None-ResNet-None-CTC.pth\r\n",
      "-rw-rw-r-- 1 selcuk selcuk     65736 May 17 21:25 None-VGG-BiLSTM-CTC.pth\r\n",
      "-rw-rw-r-- 1 selcuk selcuk     66207 May 17 21:25 None-VGG-None-CTC.pth\r\n",
      "-rw-rw-r-- 1 selcuk selcuk 198975977 May 17 21:25 TPS-ResNet-BiLSTM-Attn-case-sensitive.pth\r\n",
      "-rw-rw-r-- 1 selcuk selcuk 198678680 May 17 21:26 TPS-ResNet-BiLSTM-Attn.pth\r\n",
      "-rw-rw-r-- 1 selcuk selcuk 195888589 May 17 21:27 TPS-ResNet-BiLSTM-CTC.pth\r\n"
     ]
    }
   ],
   "source": [
    "models = {\n",
    "    'None-ResNet-None-CTC.pth': 'https://drive.google.com/open?id=1FocnxQzFBIjDT2F9BkNUiLdo1cC3eaO0',\n",
    "    'None-VGG-BiLSTM-CTC.pth': 'https://drive.google.com/open?id=1GGC2IRYEMQviZhqQpbtpeTgHO_IXWetG',\n",
    "    'None-VGG-None-CTC.pth': 'https://drive.google.com/open?id=1FS3aZevvLiGF1PFBm5SkwvVcgI6hJWL9',\n",
    "    'TPS-ResNet-BiLSTM-Attn-case-sensitive.pth': 'https://drive.google.com/open?id=1ajONZOgiG9pEYsQ-eBmgkVbMDuHgPCaY',\n",
    "    'TPS-ResNet-BiLSTM-Attn.pth': 'https://drive.google.com/open?id=1b59rXuGGmKne1AuHnkgDzoYgKeETNMv9',\n",
    "    'TPS-ResNet-BiLSTM-CTC.pth': 'https://drive.google.com/open?id=1FocnxQzFBIjDT2F9BkNUiLdo1cC3eaO0',\n",
    "}\n",
    "\n",
    "for k, v in models.items():\n",
    "  doc_id = v[v.find('=')+1:]\n",
    "  !curl -c /tmp/cookies \"https://drive.google.com/uc?export=download&id=$doc_id\" > /tmp/intermezzo.html\n",
    "  !curl -L -b /tmp/cookies \"https://drive.google.com$(cat /tmp/intermezzo.html | grep -Po 'uc-download-link\" [^>]* href=\"\\K[^\"]*' | sed 's/\\&amp;/\\&/g')\" > $k\n",
    "\n",
    "!ls -al *.pth\n",
    "\n",
    "# !bash download_models.sh"
   ]
  },
  {
   "cell_type": "code",
   "execution_count": 3,
   "metadata": {
    "colab": {},
    "colab_type": "code",
    "id": "s-E716WnhfrI",
    "pycharm": {
     "name": "#%% bash\n"
    }
   },
   "outputs": [
    {
     "name": "stdout",
     "output_type": "stream",
     "text": [
      "['model input parameters 32 100 20 1 512 256 38 25 TPS ResNet BiLSTM Attn', 'loading pretrained model from TPS-ResNet-BiLSTM-Attn.pth', '--------------------------------------------------------------------------------', 'image_path               \\tpredicted_labels         \\tconfidence score', '--------------------------------------------------------------------------------', 'demo_image/demo_1.png    \\tavailable                \\t0.9999', 'demo_image/demo_2.jpg    \\tshakeshack               \\t0.9533', 'demo_image/demo_3.png    \\tlondon                   \\t0.9840', 'demo_image/demo_4.png    \\tgreenstead               \\t0.9985', 'demo_image/demo_5.png    \\ttoast                    \\t0.9961', 'demo_image/demo_6.png    \\tmerry                    \\t0.9975', 'demo_image/demo_7.png    \\tunderground              \\t1.0000', 'demo_image/demo_8.jpg    \\tronaldo                  \\t0.8387', 'demo_image/demo_9.jpg    \\tbally                    \\t0.7566', 'demo_image/demo_10.jpg   \\tuniversity               \\t0.9998']\n"
     ]
    }
   ],
   "source": [
    "output = !CUDA_VISIBLE_DEVICES=0 python3 demo.py \\\n",
    "--Transformation TPS --FeatureExtraction ResNet --SequenceModeling BiLSTM --Prediction Attn \\\n",
    "--image_folder demo_image/ \\\n",
    "--saved_model TPS-ResNet-BiLSTM-Attn.pth\n",
    "\n",
    "print(output)"
   ]
  },
  {
   "cell_type": "code",
   "execution_count": 7,
   "metadata": {
    "colab": {
     "base_uri": "https://localhost:8080/",
     "height": 1000
    },
    "colab_type": "code",
    "id": "bJRPln2QlxlJ",
    "outputId": "a81e0b6b-8171-49a6-c59f-15649d7c6bb8",
    "pycharm": {
     "name": "#%% python\n"
    }
   },
   "outputs": [
    {
     "data": {
      "text/plain": "<IPython.core.display.HTML object>",
      "text/html": "<table border=\"1\" class=\"dataframe\">\n  <thead>\n    <tr style=\"text-align: right;\">\n      <th></th>\n      <th>img</th>\n      <th>id</th>\n      <th>label</th>\n      <th>conf</th>\n    </tr>\n  </thead>\n  <tbody>\n    <tr>\n      <th>0</th>\n      <td><img src=\"data:image/png;base64,iVBORw0KGgoAAA...</td>\n      <td>demo_image/demo_1.png</td>\n      <td>available</td>\n      <td>0.9999</td>\n    </tr>\n    <tr>\n      <th>1</th>\n      <td><img src=\"data:image/png;base64,iVBORw0KGgoAAA...</td>\n      <td>demo_image/demo_2.jpg</td>\n      <td>shakeshack</td>\n      <td>0.9533</td>\n    </tr>\n    <tr>\n      <th>2</th>\n      <td><img src=\"data:image/png;base64,iVBORw0KGgoAAA...</td>\n      <td>demo_image/demo_3.png</td>\n      <td>london</td>\n      <td>0.9840</td>\n    </tr>\n    <tr>\n      <th>3</th>\n      <td><img src=\"data:image/png;base64,iVBORw0KGgoAAA...</td>\n      <td>demo_image/demo_4.png</td>\n      <td>greenstead</td>\n      <td>0.9985</td>\n    </tr>\n    <tr>\n      <th>4</th>\n      <td><img src=\"data:image/png;base64,iVBORw0KGgoAAA...</td>\n      <td>demo_image/demo_5.png</td>\n      <td>toast</td>\n      <td>0.9961</td>\n    </tr>\n    <tr>\n      <th>5</th>\n      <td><img src=\"data:image/png;base64,iVBORw0KGgoAAA...</td>\n      <td>demo_image/demo_6.png</td>\n      <td>merry</td>\n      <td>0.9975</td>\n    </tr>\n    <tr>\n      <th>6</th>\n      <td><img src=\"data:image/png;base64,iVBORw0KGgoAAA...</td>\n      <td>demo_image/demo_7.png</td>\n      <td>underground</td>\n      <td>1.0000</td>\n    </tr>\n    <tr>\n      <th>7</th>\n      <td><img src=\"data:image/png;base64,iVBORw0KGgoAAA...</td>\n      <td>demo_image/demo_8.jpg</td>\n      <td>ronaldo</td>\n      <td>0.8387</td>\n    </tr>\n    <tr>\n      <th>8</th>\n      <td><img src=\"data:image/png;base64,iVBORw0KGgoAAA...</td>\n      <td>demo_image/demo_9.jpg</td>\n      <td>bally</td>\n      <td>0.7566</td>\n    </tr>\n    <tr>\n      <th>9</th>\n      <td><img src=\"data:image/png;base64,iVBORw0KGgoAAA...</td>\n      <td>demo_image/demo_10.jpg</td>\n      <td>university</td>\n      <td>0.9998</td>\n    </tr>\n  </tbody>\n</table>"
     },
     "metadata": {},
     "output_type": "display_data"
    }
   ],
   "source": [
    "from IPython.core.display import display, HTML\n",
    "from PIL import Image\n",
    "import base64\n",
    "import io\n",
    "import pandas as pd\n",
    "\n",
    "data = pd.DataFrame()\n",
    "for ind, row in enumerate(output[output.index('image_path               \\tpredicted_labels         \\tconfidence score')+2:]):\n",
    "  row = row.split('\\t')\n",
    "  filename = row[0].strip()\n",
    "  label = row[1].strip()\n",
    "  conf = row[2].strip()\n",
    "  img = Image.open(filename)\n",
    "  img_buffer = io.BytesIO()\n",
    "  img.save(img_buffer, format=\"PNG\")\n",
    "  imgStr = base64.b64encode(img_buffer.getvalue()).decode(\"utf-8\") \n",
    "\n",
    "  data.loc[ind, 'img'] = '<img src=\"data:image/png;base64,{0:s}\">'.format(imgStr)\n",
    "  data.loc[ind, 'id'] = filename\n",
    "  data.loc[ind, 'label'] = label\n",
    "  data.loc[ind, 'conf'] = conf\n",
    "\n",
    "html_all = data.to_html(escape=False)\n",
    "display(HTML(html_all))"
   ]
  }
 ],
 "metadata": {
  "accelerator": "GPU",
  "colab": {
   "collapsed_sections": [],
   "include_colab_link": true,
   "name": "deep-text-recognition-benchmark.ipynb",
   "provenance": []
  },
  "kernelspec": {
   "name": "python3",
   "language": "python",
   "display_name": "Python 3"
  },
  "language_info": {
   "codemirror_mode": "groovy",
   "file_extension": ".groovy",
   "mimetype": "",
   "name": "Groovy",
   "nbconverter_exporter": "",
   "version": "2.5.6"
  },
  "toc": {
   "base_numbering": 1,
   "nav_menu": {},
   "number_sections": false,
   "sideBar": false,
   "skip_h1_title": false,
   "title_cell": "Table of Contents",
   "title_sidebar": "Contents",
   "toc_cell": false,
   "toc_position": {},
   "toc_section_display": false,
   "toc_window_display": false
  }
 },
 "nbformat": 4,
 "nbformat_minor": 1
}